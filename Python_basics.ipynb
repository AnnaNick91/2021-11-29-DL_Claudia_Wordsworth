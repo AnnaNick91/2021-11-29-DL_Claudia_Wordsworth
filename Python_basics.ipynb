{
 "cells": [
  {
   "cell_type": "markdown",
   "id": "d9a8fc5a",
   "metadata": {},
   "source": [
    "# Python Einführung\n",
    "\n",
    "- Stichpunkte\n",
    "- **fett** *kursiv*\n",
    "\n"
   ]
  },
  {
   "cell_type": "code",
   "execution_count": 1,
   "id": "1c8a91d3",
   "metadata": {},
   "outputs": [
    {
     "name": "stdout",
     "output_type": "stream",
     "text": [
      "Die Sonne scheint\n"
     ]
    }
   ],
   "source": [
    "print (\"Die Sonne scheint\")"
   ]
  },
  {
   "cell_type": "markdown",
   "id": "ef6def56",
   "metadata": {},
   "source": [
    "# Einfache Datentypen"
   ]
  },
  {
   "cell_type": "code",
   "execution_count": 2,
   "id": "0ac90dda",
   "metadata": {},
   "outputs": [],
   "source": [
    "# Variablen & Wertezuweisen\n",
    "name = \"Lovelace\""
   ]
  },
  {
   "cell_type": "code",
   "execution_count": 3,
   "id": "cb43dbab",
   "metadata": {},
   "outputs": [
    {
     "name": "stdout",
     "output_type": "stream",
     "text": [
      "Lovelace\n"
     ]
    }
   ],
   "source": [
    "print (name)"
   ]
  },
  {
   "cell_type": "code",
   "execution_count": 4,
   "id": "c09032a9",
   "metadata": {},
   "outputs": [
    {
     "name": "stdout",
     "output_type": "stream",
     "text": [
      "37\n"
     ]
    }
   ],
   "source": [
    "# Integer - Ganzzahl\n",
    "age = 37\n",
    "print (age)"
   ]
  },
  {
   "cell_type": "code",
   "execution_count": 5,
   "id": "dbb72906",
   "metadata": {},
   "outputs": [
    {
     "name": "stdout",
     "output_type": "stream",
     "text": [
      "1.7123\n"
     ]
    }
   ],
   "source": [
    "# Float\n",
    "size = 1.7123\n",
    "print (size)"
   ]
  },
  {
   "cell_type": "code",
   "execution_count": 6,
   "id": "bc7e63ba",
   "metadata": {},
   "outputs": [
    {
     "name": "stdout",
     "output_type": "stream",
     "text": [
      "True\n",
      "False\n"
     ]
    }
   ],
   "source": [
    "# Boolean - Boolscher Wert\n",
    "knows_math = True\n",
    "print (knows_math)\n",
    "likes_gardening = False\n",
    "print (likes_gardening)"
   ]
  },
  {
   "cell_type": "code",
   "execution_count": 9,
   "id": "2cc295d3",
   "metadata": {},
   "outputs": [
    {
     "name": "stdout",
     "output_type": "stream",
     "text": [
      "Lovelace 37\n"
     ]
    }
   ],
   "source": [
    "print(name,age)\n",
    "\n",
    "\n"
   ]
  },
  {
   "cell_type": "code",
   "execution_count": 10,
   "id": "34a411b2",
   "metadata": {},
   "outputs": [
    {
     "data": {
      "text/plain": [
       "int"
      ]
     },
     "execution_count": 10,
     "metadata": {},
     "output_type": "execute_result"
    }
   ],
   "source": [
    "# Typen anzeigen lassen\n",
    "type (age)"
   ]
  },
  {
   "cell_type": "code",
   "execution_count": 11,
   "id": "11a3bee4",
   "metadata": {},
   "outputs": [
    {
     "data": {
      "text/plain": [
       "str"
      ]
     },
     "execution_count": 11,
     "metadata": {},
     "output_type": "execute_result"
    }
   ],
   "source": [
    "type(name)"
   ]
  },
  {
   "cell_type": "code",
   "execution_count": 12,
   "id": "94c17bed",
   "metadata": {},
   "outputs": [],
   "source": [
    "year = \"2021\""
   ]
  },
  {
   "cell_type": "code",
   "execution_count": 13,
   "id": "8d6b36fb",
   "metadata": {},
   "outputs": [
    {
     "data": {
      "text/plain": [
       "str"
      ]
     },
     "execution_count": 13,
     "metadata": {},
     "output_type": "execute_result"
    }
   ],
   "source": [
    "type(year)"
   ]
  },
  {
   "cell_type": "markdown",
   "id": "c825c888",
   "metadata": {},
   "source": [
    "# Operatoren"
   ]
  },
  {
   "cell_type": "code",
   "execution_count": 14,
   "id": "70cf337f",
   "metadata": {},
   "outputs": [
    {
     "data": {
      "text/plain": [
       "10"
      ]
     },
     "execution_count": 14,
     "metadata": {},
     "output_type": "execute_result"
    }
   ],
   "source": [
    "5 + 5"
   ]
  },
  {
   "cell_type": "code",
   "execution_count": 15,
   "id": "12672002",
   "metadata": {},
   "outputs": [
    {
     "data": {
      "text/plain": [
       "3700"
      ]
     },
     "execution_count": 15,
     "metadata": {},
     "output_type": "execute_result"
    }
   ],
   "source": [
    "age * 100"
   ]
  },
  {
   "cell_type": "code",
   "execution_count": 16,
   "id": "f9cebd12",
   "metadata": {},
   "outputs": [
    {
     "data": {
      "text/plain": [
       "'LovelaceLovelace'"
      ]
     },
     "execution_count": 16,
     "metadata": {},
     "output_type": "execute_result"
    }
   ],
   "source": [
    "name + name"
   ]
  },
  {
   "cell_type": "code",
   "execution_count": 17,
   "id": "a8cd3290",
   "metadata": {},
   "outputs": [
    {
     "data": {
      "text/plain": [
       "'LovelaceLovelaceLovelaceLovelaceLovelaceLovelaceLovelaceLovelaceLovelaceLovelace'"
      ]
     },
     "execution_count": 17,
     "metadata": {},
     "output_type": "execute_result"
    }
   ],
   "source": [
    "name * 10\n"
   ]
  },
  {
   "cell_type": "code",
   "execution_count": 18,
   "id": "4f083eda",
   "metadata": {},
   "outputs": [
    {
     "ename": "TypeError",
     "evalue": "can only concatenate str (not \"int\") to str",
     "output_type": "error",
     "traceback": [
      "\u001b[0;31m---------------------------------------------------------------------------\u001b[0m",
      "\u001b[0;31mTypeError\u001b[0m                                 Traceback (most recent call last)",
      "\u001b[0;32m/tmp/ipykernel_7763/3004308386.py\u001b[0m in \u001b[0;36m<module>\u001b[0;34m\u001b[0m\n\u001b[0;32m----> 1\u001b[0;31m \u001b[0mname\u001b[0m \u001b[0;34m+\u001b[0m \u001b[0;36m10\u001b[0m\u001b[0;34m\u001b[0m\u001b[0;34m\u001b[0m\u001b[0m\n\u001b[0m",
      "\u001b[0;31mTypeError\u001b[0m: can only concatenate str (not \"int\") to str"
     ]
    }
   ],
   "source": [
    "name + 10"
   ]
  },
  {
   "cell_type": "code",
   "execution_count": 19,
   "id": "55e30bed",
   "metadata": {},
   "outputs": [
    {
     "data": {
      "text/plain": [
       "'Lovelace10'"
      ]
     },
     "execution_count": 19,
     "metadata": {},
     "output_type": "execute_result"
    }
   ],
   "source": [
    "name + \"10\""
   ]
  },
  {
   "cell_type": "code",
   "execution_count": 20,
   "id": "ec58bc74",
   "metadata": {},
   "outputs": [
    {
     "data": {
      "text/plain": [
       "0.04627837837837838"
      ]
     },
     "execution_count": 20,
     "metadata": {},
     "output_type": "execute_result"
    }
   ],
   "source": [
    "size / age"
   ]
  },
  {
   "cell_type": "code",
   "execution_count": 21,
   "id": "c8347d12",
   "metadata": {},
   "outputs": [],
   "source": [
    "number_of_articles = \"50\""
   ]
  },
  {
   "cell_type": "code",
   "execution_count": 22,
   "id": "6f20258c",
   "metadata": {},
   "outputs": [
    {
     "name": "stdout",
     "output_type": "stream",
     "text": [
      "50\n"
     ]
    }
   ],
   "source": [
    "print(number_of_articles)"
   ]
  },
  {
   "cell_type": "code",
   "execution_count": 23,
   "id": "226a4e37",
   "metadata": {},
   "outputs": [
    {
     "ename": "TypeError",
     "evalue": "unsupported operand type(s) for /: 'str' and 'int'",
     "output_type": "error",
     "traceback": [
      "\u001b[0;31m---------------------------------------------------------------------------\u001b[0m",
      "\u001b[0;31mTypeError\u001b[0m                                 Traceback (most recent call last)",
      "\u001b[0;32m/tmp/ipykernel_7763/296469042.py\u001b[0m in \u001b[0;36m<module>\u001b[0;34m\u001b[0m\n\u001b[0;32m----> 1\u001b[0;31m \u001b[0mnumber_of_articles\u001b[0m \u001b[0;34m/\u001b[0m \u001b[0;36m10\u001b[0m\u001b[0;34m\u001b[0m\u001b[0;34m\u001b[0m\u001b[0m\n\u001b[0m",
      "\u001b[0;31mTypeError\u001b[0m: unsupported operand type(s) for /: 'str' and 'int'"
     ]
    }
   ],
   "source": [
    "number_of_articles / 10"
   ]
  },
  {
   "cell_type": "code",
   "execution_count": 24,
   "id": "3282499e",
   "metadata": {},
   "outputs": [
    {
     "data": {
      "text/plain": [
       "5.0"
      ]
     },
     "execution_count": 24,
     "metadata": {},
     "output_type": "execute_result"
    }
   ],
   "source": [
    "int(number_of_articles) / 10"
   ]
  },
  {
   "cell_type": "markdown",
   "id": "082a95c5",
   "metadata": {},
   "source": [
    "# Funktionen und Methoden"
   ]
  },
  {
   "cell_type": "code",
   "execution_count": 25,
   "id": "ae9ae0c4",
   "metadata": {},
   "outputs": [
    {
     "data": {
      "text/plain": [
       "8"
      ]
     },
     "execution_count": 25,
     "metadata": {},
     "output_type": "execute_result"
    }
   ],
   "source": [
    "len(name)"
   ]
  },
  {
   "cell_type": "code",
   "execution_count": 27,
   "id": "90fc293a",
   "metadata": {},
   "outputs": [
    {
     "data": {
      "text/plain": [
       "'LOVELACE'"
      ]
     },
     "execution_count": 27,
     "metadata": {},
     "output_type": "execute_result"
    }
   ],
   "source": [
    "# Str wird großgeschrieben\n",
    "name.upper()"
   ]
  },
  {
   "cell_type": "code",
   "execution_count": 29,
   "id": "7adb8242",
   "metadata": {},
   "outputs": [
    {
     "data": {
      "text/plain": [
       "2"
      ]
     },
     "execution_count": 29,
     "metadata": {},
     "output_type": "execute_result"
    }
   ],
   "source": [
    "# Zählt die angegeben Zeichen in einer Variablen \n",
    "name.count(\"e\")"
   ]
  },
  {
   "cell_type": "code",
   "execution_count": 30,
   "id": "5cb9dc2d",
   "metadata": {},
   "outputs": [
    {
     "data": {
      "text/plain": [
       "'Love is everywhere'"
      ]
     },
     "execution_count": 30,
     "metadata": {},
     "output_type": "execute_result"
    }
   ],
   "source": [
    "name.replace(\"lace\", \" is everywhere\")"
   ]
  },
  {
   "cell_type": "code",
   "execution_count": 31,
   "id": "353250de",
   "metadata": {},
   "outputs": [
    {
     "name": "stdout",
     "output_type": "stream",
     "text": [
      "Lovelace\n"
     ]
    }
   ],
   "source": [
    "print(name)"
   ]
  },
  {
   "cell_type": "markdown",
   "id": "c544d722",
   "metadata": {},
   "source": [
    "# Listen und Dictionaries"
   ]
  },
  {
   "cell_type": "code",
   "execution_count": 32,
   "id": "395836ae",
   "metadata": {},
   "outputs": [],
   "source": [
    "names = [\"Lovelace\", \"Darwin\", \"Curie\"]\n"
   ]
  },
  {
   "cell_type": "code",
   "execution_count": 33,
   "id": "3d594115",
   "metadata": {},
   "outputs": [
    {
     "data": {
      "text/plain": [
       "'Lovelace'"
      ]
     },
     "execution_count": 33,
     "metadata": {},
     "output_type": "execute_result"
    }
   ],
   "source": [
    "names[0]"
   ]
  },
  {
   "cell_type": "code",
   "execution_count": 34,
   "id": "5f432bc7",
   "metadata": {},
   "outputs": [
    {
     "data": {
      "text/plain": [
       "['Lovelace', 'Darwin', 'Curie']"
      ]
     },
     "execution_count": 34,
     "metadata": {},
     "output_type": "execute_result"
    }
   ],
   "source": [
    "names[0:3]"
   ]
  },
  {
   "cell_type": "code",
   "execution_count": 36,
   "id": "a24b4145",
   "metadata": {},
   "outputs": [],
   "source": [
    "authors_and_birth_year = {\"Lovelace\": 1815, \"Darwin\": 1809, \"Noether\": 1882}"
   ]
  },
  {
   "cell_type": "code",
   "execution_count": 37,
   "id": "c9b4e3f2",
   "metadata": {},
   "outputs": [
    {
     "data": {
      "text/plain": [
       "1815"
      ]
     },
     "execution_count": 37,
     "metadata": {},
     "output_type": "execute_result"
    }
   ],
   "source": [
    "authors_and_birth_year[\"Lovelace\"]"
   ]
  },
  {
   "cell_type": "code",
   "execution_count": 38,
   "id": "4b994850",
   "metadata": {},
   "outputs": [
    {
     "ename": "KeyError",
     "evalue": "1815",
     "output_type": "error",
     "traceback": [
      "\u001b[0;31m---------------------------------------------------------------------------\u001b[0m",
      "\u001b[0;31mKeyError\u001b[0m                                  Traceback (most recent call last)",
      "\u001b[0;32m/tmp/ipykernel_7763/4279741706.py\u001b[0m in \u001b[0;36m<module>\u001b[0;34m\u001b[0m\n\u001b[0;32m----> 1\u001b[0;31m \u001b[0mauthors_and_birth_year\u001b[0m\u001b[0;34m[\u001b[0m\u001b[0;36m1815\u001b[0m\u001b[0;34m]\u001b[0m\u001b[0;34m\u001b[0m\u001b[0;34m\u001b[0m\u001b[0m\n\u001b[0m",
      "\u001b[0;31mKeyError\u001b[0m: 1815"
     ]
    }
   ],
   "source": [
    "authors_and_birth_year[1815]"
   ]
  },
  {
   "cell_type": "code",
   "execution_count": 16,
   "id": "11c79660",
   "metadata": {},
   "outputs": [],
   "source": [
    "authors_and_birth_year = {\"Lovelace\": [1815, 1816], \"Darwin\": [1809, 1810, {\"London\": 1910, \"Greenwich\": 1911}], \"Noether\": 1809}"
   ]
  },
  {
   "cell_type": "code",
   "execution_count": 17,
   "id": "56e7a9a1",
   "metadata": {},
   "outputs": [
    {
     "data": {
      "text/plain": [
       "{'Lovelace': [1815, 1816],\n",
       " 'Darwin': [1809, 1810, {'London': 1910, 'Greenwich': 1911}],\n",
       " 'Noether': 1809}"
      ]
     },
     "execution_count": 17,
     "metadata": {},
     "output_type": "execute_result"
    }
   ],
   "source": [
    "authors_and_birth_year"
   ]
  },
  {
   "cell_type": "code",
   "execution_count": 18,
   "id": "e0bf2277",
   "metadata": {},
   "outputs": [
    {
     "data": {
      "text/plain": [
       "1816"
      ]
     },
     "execution_count": 18,
     "metadata": {},
     "output_type": "execute_result"
    }
   ],
   "source": [
    "authors_and_birth_year [\"Lovelace\"] [1]"
   ]
  },
  {
   "cell_type": "code",
   "execution_count": 19,
   "id": "32e3f3cf",
   "metadata": {},
   "outputs": [
    {
     "data": {
      "text/plain": [
       "1911"
      ]
     },
     "execution_count": 19,
     "metadata": {},
     "output_type": "execute_result"
    }
   ],
   "source": [
    "authors_and_birth_year [\"Darwin\"][2][\"Greenwich\"]"
   ]
  },
  {
   "cell_type": "markdown",
   "id": "b0f2379e",
   "metadata": {},
   "source": [
    "# for-Schleifen"
   ]
  },
  {
   "cell_type": "code",
   "execution_count": null,
   "id": "fd92e236",
   "metadata": {},
   "outputs": [],
   "source": []
  },
  {
   "cell_type": "code",
   "execution_count": 41,
   "id": "3e0869f2",
   "metadata": {},
   "outputs": [],
   "source": [
    "names = [\"Lovelace\", \"Darwin\", \"Noether\", \"Hawking\"]"
   ]
  },
  {
   "cell_type": "code",
   "execution_count": 42,
   "id": "daa56b40",
   "metadata": {},
   "outputs": [
    {
     "name": "stdout",
     "output_type": "stream",
     "text": [
      "Lovelace did awesome stuff!\n",
      "Darwin did awesome stuff!\n",
      "Noether did awesome stuff!\n",
      "Hawking did awesome stuff!\n"
     ]
    }
   ],
   "source": [
    "for person in names:\n",
    "    print(person + \" did awesome stuff!\")"
   ]
  },
  {
   "cell_type": "code",
   "execution_count": 43,
   "id": "bc5d483b",
   "metadata": {},
   "outputs": [
    {
     "ename": "IndentationError",
     "evalue": "expected an indented block (3946964339.py, line 2)",
     "output_type": "error",
     "traceback": [
      "\u001b[0;36m  File \u001b[0;32m\"/tmp/ipykernel_7763/3946964339.py\"\u001b[0;36m, line \u001b[0;32m2\u001b[0m\n\u001b[0;31m    print(person + \" did awesome stuff!\")\u001b[0m\n\u001b[0m    ^\u001b[0m\n\u001b[0;31mIndentationError\u001b[0m\u001b[0;31m:\u001b[0m expected an indented block\n"
     ]
    }
   ],
   "source": [
    "for person in names:\n",
    "print(person + \" did awesome stuff!\")"
   ]
  },
  {
   "cell_type": "code",
   "execution_count": 44,
   "id": "2d4227fa",
   "metadata": {},
   "outputs": [
    {
     "name": "stdout",
     "output_type": "stream",
     "text": [
      "Lovelace did awesome stuff!\n",
      ".......\n",
      "Darwin did awesome stuff!\n",
      ".......\n",
      "Noether did awesome stuff!\n",
      ".......\n",
      "Hawking did awesome stuff!\n",
      ".......\n"
     ]
    }
   ],
   "source": [
    "for person in names:\n",
    "    print(person + \" did awesome stuff!\")\n",
    "    print(\".......\")"
   ]
  },
  {
   "cell_type": "code",
   "execution_count": 45,
   "id": "9a3a54dc",
   "metadata": {},
   "outputs": [
    {
     "name": "stdout",
     "output_type": "stream",
     "text": [
      "Lovelace did awesome stuff!\n",
      "Darwin did awesome stuff!\n",
      "Noether did awesome stuff!\n",
      "Hawking did awesome stuff!\n",
      ".......\n"
     ]
    }
   ],
   "source": [
    "for person in names:\n",
    "    print(person + \" did awesome stuff!\")\n",
    "print(\".......\")"
   ]
  },
  {
   "cell_type": "code",
   "execution_count": 46,
   "id": "38711c98",
   "metadata": {},
   "outputs": [
    {
     "name": "stdout",
     "output_type": "stream",
     "text": [
      "Lovelace did awesome stuff!\n",
      ".......\n",
      "Darwin did awesome stuff!\n",
      ".......\n",
      "Noether did awesome stuff!\n",
      ".......\n",
      "Hawking did awesome stuff!\n",
      ".......\n"
     ]
    }
   ],
   "source": [
    "for person in names:\n",
    "    print(person + \" did awesome stuff!\")\n",
    "    print(\".......\")"
   ]
  },
  {
   "cell_type": "code",
   "execution_count": 54,
   "id": "3e6f8fb0",
   "metadata": {},
   "outputs": [],
   "source": [
    "import this\n"
   ]
  },
  {
   "cell_type": "markdown",
   "id": "a093d4b5",
   "metadata": {},
   "source": [
    "# Conditionals - Bedingte Anweisungen"
   ]
  },
  {
   "cell_type": "code",
   "execution_count": null,
   "id": "477bdae2",
   "metadata": {},
   "outputs": [],
   "source": [
    "temp = 20\n",
    "if \n"
   ]
  },
  {
   "cell_type": "code",
   "execution_count": 49,
   "id": "b3328dc7",
   "metadata": {},
   "outputs": [
    {
     "data": {
      "text/plain": [
       "True"
      ]
     },
     "execution_count": 49,
     "metadata": {},
     "output_type": "execute_result"
    }
   ],
   "source": [
    "20 > 10 "
   ]
  },
  {
   "cell_type": "code",
   "execution_count": 50,
   "id": "28c4e60c",
   "metadata": {},
   "outputs": [
    {
     "data": {
      "text/plain": [
       "False"
      ]
     },
     "execution_count": 50,
     "metadata": {},
     "output_type": "execute_result"
    }
   ],
   "source": [
    "20 < 10"
   ]
  },
  {
   "cell_type": "code",
   "execution_count": 51,
   "id": "76ef670f",
   "metadata": {},
   "outputs": [
    {
     "name": "stdout",
     "output_type": "stream",
     "text": [
      "Es ist warm.\n"
     ]
    }
   ],
   "source": [
    "temp = 20\n",
    "if temp > 15:\n",
    "    print(\"Es ist warm.\")"
   ]
  },
  {
   "cell_type": "code",
   "execution_count": 52,
   "id": "f62dedda",
   "metadata": {},
   "outputs": [],
   "source": [
    "temp = 20\n",
    "if temp < 15:\n",
    "    print(\"Es ist kalt.\")"
   ]
  },
  {
   "cell_type": "code",
   "execution_count": 53,
   "id": "b50c2e0a",
   "metadata": {},
   "outputs": [
    {
     "name": "stdout",
     "output_type": "stream",
     "text": [
      "Es ist kalt.\n"
     ]
    }
   ],
   "source": [
    "temp = 5\n",
    "if temp < 15:\n",
    "    print(\"Es ist kalt.\")"
   ]
  },
  {
   "cell_type": "code",
   "execution_count": 55,
   "id": "0426232a",
   "metadata": {},
   "outputs": [
    {
     "name": "stdout",
     "output_type": "stream",
     "text": [
      "Es ist kalt.\n"
     ]
    }
   ],
   "source": [
    "temp = 5\n",
    "if temp < 15:\n",
    "    print(\"Es ist kalt.\")\n",
    "else:\n",
    "    print(\"Es ist warm.\")"
   ]
  },
  {
   "cell_type": "code",
   "execution_count": 56,
   "id": "c463a31b",
   "metadata": {},
   "outputs": [
    {
     "name": "stdout",
     "output_type": "stream",
     "text": [
      "Es ist warm.\n"
     ]
    }
   ],
   "source": [
    "temp = 25\n",
    "if temp < 15:\n",
    "    print(\"Es ist kalt.\")\n",
    "else:\n",
    "    print(\"Es ist warm.\")"
   ]
  },
  {
   "cell_type": "code",
   "execution_count": 57,
   "id": "81542f63",
   "metadata": {},
   "outputs": [
    {
     "name": "stdout",
     "output_type": "stream",
     "text": [
      "Es ist heiß.\n"
     ]
    }
   ],
   "source": [
    "temp = 25\n",
    "if temp >= 25:\n",
    "    print(\"Es ist heiß.\")\n",
    "elif temp >= 15:\n",
    "    print(\"Es ist warm.\")\n",
    "else:\n",
    "    print(\"Es ist kalt.\")"
   ]
  },
  {
   "cell_type": "code",
   "execution_count": 58,
   "id": "8ed5b6ec",
   "metadata": {},
   "outputs": [
    {
     "name": "stdout",
     "output_type": "stream",
     "text": [
      "Es ist warm.\n"
     ]
    }
   ],
   "source": [
    "temp = 15\n",
    "if temp >= 25:\n",
    "    print(\"Es ist heiß.\")\n",
    "elif temp >= 15:\n",
    "    print(\"Es ist warm.\")\n",
    "else:\n",
    "    print(\"Es ist kalt.\")"
   ]
  },
  {
   "cell_type": "code",
   "execution_count": 60,
   "id": "fdd52665",
   "metadata": {},
   "outputs": [
    {
     "name": "stdout",
     "output_type": "stream",
     "text": [
      "Es ist kalt.\n"
     ]
    }
   ],
   "source": [
    "temp = 14\n",
    "if temp >= 25:\n",
    "    print(\"Es ist heiß.\")\n",
    "elif temp >= 15:\n",
    "    print(\"Es ist warm.\")\n",
    "else:\n",
    "    print(\"Es ist kalt.\")"
   ]
  },
  {
   "cell_type": "code",
   "execution_count": 62,
   "id": "6e9caacd",
   "metadata": {},
   "outputs": [],
   "source": [
    "#Erstellt eine Liste mit allen Namen aus Gruppe.\n",
    "#Baut For-Schleife, die auf Liste zugreif und das Lieblingsessen wiedergibt"
   ]
  },
  {
   "cell_type": "markdown",
   "id": "c0f8755f",
   "metadata": {},
   "source": [
    "# Lieblingsessen Gruppenübung"
   ]
  },
  {
   "cell_type": "code",
   "execution_count": 63,
   "id": "722ff38d",
   "metadata": {},
   "outputs": [
    {
     "ename": "SyntaxError",
     "evalue": "invalid syntax (3723948303.py, line 1)",
     "output_type": "error",
     "traceback": [
      "\u001b[0;36m  File \u001b[0;32m\"/tmp/ipykernel_7763/3723948303.py\"\u001b[0;36m, line \u001b[0;32m1\u001b[0m\n\u001b[0;31m    names_and_food = {\"Anna\": Pasta,\"Bianca\": Asiatische Reispfanne ,\"Birgit\": Pizza ,\"Claudia\": Spaghetti-Eis}\u001b[0m\n\u001b[0m                                                         ^\u001b[0m\n\u001b[0;31mSyntaxError\u001b[0m\u001b[0;31m:\u001b[0m invalid syntax\n"
     ]
    }
   ],
   "source": [
    "names_and_food = {\"Anna\": \"Pasta\",\"Bianca\": \"Asiatische Reispfanne\" ,\"Birgit\": \"Pizza\" ,\"Claudia\": \"Spaghetti-Eis}"
   ]
  },
  {
   "cell_type": "code",
   "execution_count": 75,
   "id": "c81dfa4d",
   "metadata": {},
   "outputs": [],
   "source": [
    "names = [\"Anna\", \"Bianca\", \"Birgit\", \"Claudia\"]\n",
    "names_and_food = {\"Anna\": \"Pasta\",\n",
    "                   \"Bianca\": \"Asiatische Reispfanne\",\n",
    "                   \"Birgit\": \"Pizza\",\n",
    "                   \"Claudia\": \"Spaghetti-Eis\"}"
   ]
  },
  {
   "cell_type": "code",
   "execution_count": 1,
   "id": "733e93fc",
   "metadata": {},
   "outputs": [
    {
     "ename": "SyntaxError",
     "evalue": "invalid syntax (859999174.py, line 2)",
     "output_type": "error",
     "traceback": [
      "\u001b[0;36m  File \u001b[0;32m\"/tmp/ipykernel_20022/859999174.py\"\u001b[0;36m, line \u001b[0;32m2\u001b[0m\n\u001b[0;31m    print(person + \" mag am liebsten\" + names_and_food[])\u001b[0m\n\u001b[0m                                                       ^\u001b[0m\n\u001b[0;31mSyntaxError\u001b[0m\u001b[0;31m:\u001b[0m invalid syntax\n"
     ]
    }
   ],
   "source": [
    "for person in names:\n",
    "    print(person + \" mag am liebsten\" + names_and_food[])"
   ]
  },
  {
   "cell_type": "code",
   "execution_count": 88,
   "id": "797340ab",
   "metadata": {},
   "outputs": [
    {
     "data": {
      "text/plain": [
       "'Pasta'"
      ]
     },
     "execution_count": 88,
     "metadata": {},
     "output_type": "execute_result"
    }
   ],
   "source": [
    "names_and_food[\"Anna\"]"
   ]
  },
  {
   "cell_type": "code",
   "execution_count": 3,
   "id": "e3ae6583",
   "metadata": {},
   "outputs": [
    {
     "ename": "NameError",
     "evalue": "name 'names' is not defined",
     "output_type": "error",
     "traceback": [
      "\u001b[0;31m---------------------------------------------------------------------------\u001b[0m",
      "\u001b[0;31mNameError\u001b[0m                                 Traceback (most recent call last)",
      "\u001b[0;32m/tmp/ipykernel_20022/3538485738.py\u001b[0m in \u001b[0;36m<module>\u001b[0;34m\u001b[0m\n\u001b[0;32m----> 1\u001b[0;31m \u001b[0;32mfor\u001b[0m \u001b[0mperson\u001b[0m \u001b[0;32min\u001b[0m \u001b[0mnames\u001b[0m\u001b[0;34m:\u001b[0m\u001b[0;34m\u001b[0m\u001b[0;34m\u001b[0m\u001b[0m\n\u001b[0m\u001b[1;32m      2\u001b[0m     \u001b[0mprint\u001b[0m\u001b[0;34m(\u001b[0m\u001b[0mperson\u001b[0m \u001b[0;34m+\u001b[0m \u001b[0;34m\" mag am liebsten\"\u001b[0m \u001b[0;34m+\u001b[0m \u001b[0mnames_and_food\u001b[0m\u001b[0;34m[\u001b[0m\u001b[0mperson\u001b[0m\u001b[0;34m]\u001b[0m\u001b[0;34m)\u001b[0m\u001b[0;34m\u001b[0m\u001b[0;34m\u001b[0m\u001b[0m\n",
      "\u001b[0;31mNameError\u001b[0m: name 'names' is not defined"
     ]
    }
   ],
   "source": [
    "for person in names:\n",
    "    print(person + \" mag am liebsten\" + names_and_food[person])"
   ]
  },
  {
   "cell_type": "code",
   "execution_count": 4,
   "id": "06954e43",
   "metadata": {},
   "outputs": [],
   "source": [
    "names = [\"Anna\", \"Bianca\", \"Birgit\", \"Claudia\"]\n",
    "names_and_food = {\"Anna\": \"Pasta\",\n",
    "                   \"Bianca\": \"Asiatische Reispfanne\",\n",
    "                   \"Birgit\": \"Pizza\",\n",
    "                   \"Claudia\": \"Spaghetti-Eis\"}"
   ]
  },
  {
   "cell_type": "code",
   "execution_count": 6,
   "id": "0043bad1",
   "metadata": {},
   "outputs": [
    {
     "name": "stdout",
     "output_type": "stream",
     "text": [
      "Anna mag am liebsten Pasta\n",
      "Bianca mag am liebsten Asiatische Reispfanne\n",
      "Birgit mag am liebsten Pizza\n",
      "Claudia mag am liebsten Spaghetti-Eis\n"
     ]
    }
   ],
   "source": [
    "for person in names:\n",
    "    print(person + \" mag am liebsten \" + names_and_food[person])"
   ]
  },
  {
   "cell_type": "code",
   "execution_count": null,
   "id": "9aa95304",
   "metadata": {},
   "outputs": [],
   "source": [
    "for person in names:\n",
    "    print(person + \" mag am liebsten \" + names_and_food[person])"
   ]
  },
  {
   "cell_type": "code",
   "execution_count": 9,
   "id": "b9e16ef9",
   "metadata": {},
   "outputs": [],
   "source": [
    "names_and_favourite_dish = {\"Anna\": \"Pasta\",\n",
    "                   \"Bianca\": \"Asiatische Reispfanne\",\n",
    "                   \"Birgit\": \"Pizza\",\n",
    "                   \"Claudia\": \"Spaghetti-Eis\"}"
   ]
  },
  {
   "cell_type": "code",
   "execution_count": 8,
   "id": "f5b5e4c1",
   "metadata": {},
   "outputs": [
    {
     "ename": "NameError",
     "evalue": "name 'names_and_favourite_dish' is not defined",
     "output_type": "error",
     "traceback": [
      "\u001b[0;31m---------------------------------------------------------------------------\u001b[0m",
      "\u001b[0;31mNameError\u001b[0m                                 Traceback (most recent call last)",
      "\u001b[0;32m/tmp/ipykernel_20022/1815563078.py\u001b[0m in \u001b[0;36m<module>\u001b[0;34m\u001b[0m\n\u001b[0;32m----> 1\u001b[0;31m \u001b[0mnames_and_favourite_dish\u001b[0m\u001b[0;34m.\u001b[0m\u001b[0mkeys\u001b[0m\u001b[0;34m\u001b[0m\u001b[0;34m\u001b[0m\u001b[0m\n\u001b[0m",
      "\u001b[0;31mNameError\u001b[0m: name 'names_and_favourite_dish' is not defined"
     ]
    }
   ],
   "source": [
    "names_and_favourite_dish.keys"
   ]
  },
  {
   "cell_type": "code",
   "execution_count": 10,
   "id": "54c552d1",
   "metadata": {},
   "outputs": [
    {
     "name": "stdout",
     "output_type": "stream",
     "text": [
      "Anna mag gerne Pasta\n",
      "Bianca mag gerne Asiatische Reispfanne\n",
      "Birgit mag gerne Pizza\n",
      "Claudia mag gerne Spaghetti-Eis\n"
     ]
    }
   ],
   "source": [
    "for person in names_and_favourite_dish.keys():\n",
    "    print(person + \" mag gerne \" + names_and_favourite_dish[person])"
   ]
  },
  {
   "cell_type": "code",
   "execution_count": 11,
   "id": "e6a1f648",
   "metadata": {},
   "outputs": [],
   "source": [
    "names_and_favourite_dish = {\"Anna\": \"Pasta\",\n",
    "                   \"Bianca\": \"Asiatische Reispfanne\",\n",
    "                   \"Birgit\": \"Pizza\",\n",
    "                   \"Claudia\": \"Spaghetti-Eis\"}"
   ]
  },
  {
   "cell_type": "code",
   "execution_count": 12,
   "id": "60a1bb19",
   "metadata": {},
   "outputs": [
    {
     "name": "stdout",
     "output_type": "stream",
     "text": [
      "Anna mag gerne Pasta\n",
      "Bianca mag gerne Asiatische Reispfanne\n",
      "Birgit mag gerne Pizza\n",
      "Claudia mag gerne Spaghetti-Eis\n"
     ]
    }
   ],
   "source": [
    "for person in names_and_favourite_dish:\n",
    "    print (person + \" mag gerne \" + names_and_favourite_dish[person])"
   ]
  },
  {
   "cell_type": "code",
   "execution_count": null,
   "id": "fd81e5b7",
   "metadata": {},
   "outputs": [],
   "source": []
  }
 ],
 "metadata": {
  "kernelspec": {
   "display_name": "Python 3 (ipykernel)",
   "language": "python",
   "name": "python3"
  },
  "language_info": {
   "codemirror_mode": {
    "name": "ipython",
    "version": 3
   },
   "file_extension": ".py",
   "mimetype": "text/x-python",
   "name": "python",
   "nbconvert_exporter": "python",
   "pygments_lexer": "ipython3",
   "version": "3.9.7"
  }
 },
 "nbformat": 4,
 "nbformat_minor": 5
}
